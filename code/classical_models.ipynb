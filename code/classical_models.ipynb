{
 "cells": [
  {
   "cell_type": "code",
   "execution_count": 67,
   "metadata": {},
   "outputs": [],
   "source": [
    "import numpy as np\n",
    "from sklearn.linear_model import LogisticRegression\n",
    "from sklearn.model_selection import train_test_split\n",
    "from sklearn.metrics import accuracy_score\n",
    "from sklearn.metrics import f1_score\n",
    "from sklearn.ensemble import RandomForestClassifier\n",
    "from sklearn.naive_bayes import GaussianNB\n",
    "from sklearn.metrics import confusion_matrix\n",
    "from sklearn.metrics import classification_report\n",
    "from sklearn.metrics import precision_score\n",
    "from sklearn.metrics import recall_score\n"
   ]
  },
  {
   "attachments": {},
   "cell_type": "markdown",
   "metadata": {},
   "source": [
    "## Loading Data"
   ]
  },
  {
   "cell_type": "code",
   "execution_count": 68,
   "metadata": {},
   "outputs": [],
   "source": [
    "# X_flooded_lbp = np.load('../dataset/dataset/flooded_features_lbp.npy')\n",
    "# X_non_flooded_lbp = np.load('../dataset/dataset/non-flooded_features_lbp.npy')\n",
    "# X_flooded_hog = np.load('../dataset/dataset/flooded_features_hog.npy')\n",
    "# X_non_flooded_hog = np.load('../dataset/dataset/non-flooded_features_hog.npy')"
   ]
  },
  {
   "attachments": {},
   "cell_type": "markdown",
   "metadata": {},
   "source": [
    "## Models with lbp only "
   ]
  },
  {
   "cell_type": "code",
   "execution_count": 69,
   "metadata": {},
   "outputs": [],
   "source": [
    "y_flooded_lbp = np.ones((X_flooded_lbp.shape[0], 1))\n",
    "y_non_flooded_lbp = np.zeros((X_non_flooded_lbp.shape[0], 1))\n",
    "X = np.concatenate((X_flooded_lbp, X_non_flooded_lbp), axis=0)\n",
    "y = np.concatenate((y_flooded_lbp, y_non_flooded_lbp), axis=0)"
   ]
  },
  {
   "cell_type": "code",
   "execution_count": 70,
   "metadata": {},
   "outputs": [],
   "source": [
    "# split data\n",
    "X_train, X_test, y_train, y_test = train_test_split(X, y, test_size=0.2, random_state=42)"
   ]
  },
  {
   "cell_type": "code",
   "execution_count": 71,
   "metadata": {},
   "outputs": [
    {
     "name": "stderr",
     "output_type": "stream",
     "text": [
      "c:\\Users\\lenovo\\AppData\\Local\\Programs\\Python\\Python39\\lib\\site-packages\\sklearn\\utils\\validation.py:1143: DataConversionWarning: A column-vector y was passed when a 1d array was expected. Please change the shape of y to (n_samples, ), for example using ravel().\n",
      "  y = column_or_1d(y, warn=True)\n"
     ]
    },
    {
     "name": "stdout",
     "output_type": "stream",
     "text": [
      "              precision    recall  f1-score   support\n",
      "\n",
      "         0.0       0.73      0.89      0.80        87\n",
      "         1.0       0.88      0.71      0.79        98\n",
      "\n",
      "    accuracy                           0.79       185\n",
      "   macro avg       0.80      0.80      0.79       185\n",
      "weighted avg       0.81      0.79      0.79       185\n",
      "\n",
      "Omission error: 28.57\n",
      "Commission error: 12.50\n"
     ]
    },
    {
     "name": "stderr",
     "output_type": "stream",
     "text": [
      "c:\\Users\\lenovo\\AppData\\Local\\Programs\\Python\\Python39\\lib\\site-packages\\sklearn\\linear_model\\_logistic.py:458: ConvergenceWarning: lbfgs failed to converge (status=1):\n",
      "STOP: TOTAL NO. of ITERATIONS REACHED LIMIT.\n",
      "\n",
      "Increase the number of iterations (max_iter) or scale the data as shown in:\n",
      "    https://scikit-learn.org/stable/modules/preprocessing.html\n",
      "Please also refer to the documentation for alternative solver options:\n",
      "    https://scikit-learn.org/stable/modules/linear_model.html#logistic-regression\n",
      "  n_iter_i = _check_optimize_result(\n"
     ]
    }
   ],
   "source": [
    "# train model\n",
    "model = LogisticRegression()\n",
    "model.fit(X_train, y_train)\n",
    "# test model\n",
    "y_pred = model.predict(X_test)\n",
    "print(classification_report(y_test, y_pred))\n",
    "print('Omission error: %.2f' % ((1-recall_score(y_test, y_pred))*100))\n",
    "print('Commission error: %.2f' % ((1-precision_score(y_test, y_pred))*100))"
   ]
  },
  {
   "cell_type": "code",
   "execution_count": 72,
   "metadata": {},
   "outputs": [
    {
     "name": "stderr",
     "output_type": "stream",
     "text": [
      "C:\\Users\\lenovo\\AppData\\Local\\Temp\\ipykernel_11976\\1070804783.py:3: DataConversionWarning: A column-vector y was passed when a 1d array was expected. Please change the shape of y to (n_samples,), for example using ravel().\n",
      "  model.fit(X_train, y_train)\n"
     ]
    },
    {
     "name": "stdout",
     "output_type": "stream",
     "text": [
      "              precision    recall  f1-score   support\n",
      "\n",
      "         0.0       0.74      0.86      0.79        87\n",
      "         1.0       0.86      0.72      0.78        98\n",
      "\n",
      "    accuracy                           0.79       185\n",
      "   macro avg       0.80      0.79      0.79       185\n",
      "weighted avg       0.80      0.79      0.79       185\n",
      "\n",
      "Omission error: 27.55\n",
      "Commission error: 14.46\n"
     ]
    }
   ],
   "source": [
    "# use random forest\n",
    "model = RandomForestClassifier()\n",
    "model.fit(X_train, y_train)\n",
    "# test model\n",
    "y_pred = model.predict(X_test)\n",
    "print(classification_report(y_test, y_pred))\n",
    "print('Omission error: %.2f' % ((1-recall_score(y_test, y_pred))*100))\n",
    "print('Commission error: %.2f' % ((1-precision_score(y_test, y_pred))*100))"
   ]
  },
  {
   "cell_type": "code",
   "execution_count": 73,
   "metadata": {},
   "outputs": [
    {
     "name": "stderr",
     "output_type": "stream",
     "text": [
      "c:\\Users\\lenovo\\AppData\\Local\\Programs\\Python\\Python39\\lib\\site-packages\\sklearn\\utils\\validation.py:1143: DataConversionWarning: A column-vector y was passed when a 1d array was expected. Please change the shape of y to (n_samples, ), for example using ravel().\n",
      "  y = column_or_1d(y, warn=True)\n"
     ]
    },
    {
     "name": "stdout",
     "output_type": "stream",
     "text": [
      "              precision    recall  f1-score   support\n",
      "\n",
      "         0.0       0.82      0.86      0.84        87\n",
      "         1.0       0.87      0.83      0.85        98\n",
      "\n",
      "    accuracy                           0.84       185\n",
      "   macro avg       0.84      0.84      0.84       185\n",
      "weighted avg       0.84      0.84      0.84       185\n",
      "\n",
      "Omission error: 17.35\n",
      "Commission error: 12.90\n"
     ]
    }
   ],
   "source": [
    "# use naive bayes\n",
    "model = GaussianNB()\n",
    "model.fit(X_train, y_train)\n",
    "# test model\n",
    "y_pred = model.predict(X_test)\n",
    "print(classification_report(y_test, y_pred))\n",
    "print('Omission error: %.2f' % ((1-recall_score(y_test, y_pred))*100))\n",
    "print('Commission error: %.2f' % ((1-precision_score(y_test, y_pred))*100))"
   ]
  },
  {
   "attachments": {},
   "cell_type": "markdown",
   "metadata": {},
   "source": [
    "## Models with Histogram"
   ]
  },
  {
   "cell_type": "code",
   "execution_count": 74,
   "metadata": {},
   "outputs": [],
   "source": [
    "y_flooded_hog = np.ones((X_flooded_hog.shape[0], 1))\n",
    "y_non_flooded_hog= np.zeros((X_non_flooded_hog.shape[0], 1))\n",
    "X = np.concatenate((X_flooded_hog, X_non_flooded_hog), axis=0)\n",
    "y = np.concatenate((y_flooded_hog, y_non_flooded_hog), axis=0)"
   ]
  },
  {
   "cell_type": "code",
   "execution_count": 75,
   "metadata": {},
   "outputs": [],
   "source": [
    "# split data\n",
    "X_train, X_test, y_train, y_test = train_test_split(X, y, test_size=0.2, random_state=42)"
   ]
  },
  {
   "cell_type": "code",
   "execution_count": 76,
   "metadata": {},
   "outputs": [
    {
     "name": "stderr",
     "output_type": "stream",
     "text": [
      "c:\\Users\\lenovo\\AppData\\Local\\Programs\\Python\\Python39\\lib\\site-packages\\sklearn\\utils\\validation.py:1143: DataConversionWarning: A column-vector y was passed when a 1d array was expected. Please change the shape of y to (n_samples, ), for example using ravel().\n",
      "  y = column_or_1d(y, warn=True)\n"
     ]
    },
    {
     "name": "stdout",
     "output_type": "stream",
     "text": [
      "              precision    recall  f1-score   support\n",
      "\n",
      "         0.0       0.67      0.84      0.74        87\n",
      "         1.0       0.82      0.63      0.71        98\n",
      "\n",
      "    accuracy                           0.73       185\n",
      "   macro avg       0.74      0.74      0.73       185\n",
      "weighted avg       0.75      0.73      0.73       185\n",
      "\n",
      "Omission error: 36.73\n",
      "Commission error: 18.42\n"
     ]
    },
    {
     "name": "stderr",
     "output_type": "stream",
     "text": [
      "c:\\Users\\lenovo\\AppData\\Local\\Programs\\Python\\Python39\\lib\\site-packages\\sklearn\\linear_model\\_logistic.py:458: ConvergenceWarning: lbfgs failed to converge (status=1):\n",
      "STOP: TOTAL NO. of ITERATIONS REACHED LIMIT.\n",
      "\n",
      "Increase the number of iterations (max_iter) or scale the data as shown in:\n",
      "    https://scikit-learn.org/stable/modules/preprocessing.html\n",
      "Please also refer to the documentation for alternative solver options:\n",
      "    https://scikit-learn.org/stable/modules/linear_model.html#logistic-regression\n",
      "  n_iter_i = _check_optimize_result(\n"
     ]
    }
   ],
   "source": [
    "# train model\n",
    "model = LogisticRegression()\n",
    "model.fit(X_train, y_train)\n",
    "# test model\n",
    "y_pred = model.predict(X_test)\n",
    "print(classification_report(y_test, y_pred))\n",
    "print('Omission error: %.2f' % ((1-recall_score(y_test, y_pred))*100))\n",
    "print('Commission error: %.2f' % ((1-precision_score(y_test, y_pred))*100))"
   ]
  },
  {
   "cell_type": "code",
   "execution_count": 77,
   "metadata": {},
   "outputs": [
    {
     "name": "stderr",
     "output_type": "stream",
     "text": [
      "C:\\Users\\lenovo\\AppData\\Local\\Temp\\ipykernel_11976\\1070804783.py:3: DataConversionWarning: A column-vector y was passed when a 1d array was expected. Please change the shape of y to (n_samples,), for example using ravel().\n",
      "  model.fit(X_train, y_train)\n"
     ]
    },
    {
     "name": "stdout",
     "output_type": "stream",
     "text": [
      "              precision    recall  f1-score   support\n",
      "\n",
      "         0.0       0.84      0.76      0.80        87\n",
      "         1.0       0.80      0.87      0.83        98\n",
      "\n",
      "    accuracy                           0.82       185\n",
      "   macro avg       0.82      0.81      0.81       185\n",
      "weighted avg       0.82      0.82      0.82       185\n",
      "\n",
      "Omission error: 13.27\n",
      "Commission error: 19.81\n"
     ]
    }
   ],
   "source": [
    "# use random forest\n",
    "model = RandomForestClassifier()\n",
    "model.fit(X_train, y_train)\n",
    "# test model\n",
    "y_pred = model.predict(X_test)\n",
    "print(classification_report(y_test, y_pred))\n",
    "print('Omission error: %.2f' % ((1-recall_score(y_test, y_pred))*100))\n",
    "print('Commission error: %.2f' % ((1-precision_score(y_test, y_pred))*100))"
   ]
  },
  {
   "cell_type": "code",
   "execution_count": 78,
   "metadata": {},
   "outputs": [
    {
     "name": "stderr",
     "output_type": "stream",
     "text": [
      "c:\\Users\\lenovo\\AppData\\Local\\Programs\\Python\\Python39\\lib\\site-packages\\sklearn\\utils\\validation.py:1143: DataConversionWarning: A column-vector y was passed when a 1d array was expected. Please change the shape of y to (n_samples, ), for example using ravel().\n",
      "  y = column_or_1d(y, warn=True)\n"
     ]
    },
    {
     "name": "stdout",
     "output_type": "stream",
     "text": [
      "              precision    recall  f1-score   support\n",
      "\n",
      "         0.0       0.72      0.80      0.76        87\n",
      "         1.0       0.81      0.72      0.76        98\n",
      "\n",
      "    accuracy                           0.76       185\n",
      "   macro avg       0.76      0.76      0.76       185\n",
      "weighted avg       0.77      0.76      0.76       185\n",
      "\n",
      "Omission error: 27.55\n",
      "Commission error: 19.32\n"
     ]
    }
   ],
   "source": [
    "# use naive bayes\n",
    "model = GaussianNB()\n",
    "model.fit(X_train, y_train)\n",
    "# test model\n",
    "y_pred = model.predict(X_test)\n",
    "print(classification_report(y_test, y_pred))\n",
    "print('Omission error: %.2f' % ((1-recall_score(y_test, y_pred))*100))\n",
    "print('Commission error: %.2f' % ((1-precision_score(y_test, y_pred))*100))"
   ]
  },
  {
   "attachments": {},
   "cell_type": "markdown",
   "metadata": {},
   "source": [
    "## Models with Histo and lbp"
   ]
  },
  {
   "cell_type": "code",
   "execution_count": 79,
   "metadata": {},
   "outputs": [
    {
     "name": "stdout",
     "output_type": "stream",
     "text": [
      "(922, 208420)\n",
      "(922, 1)\n"
     ]
    }
   ],
   "source": [
    "X_lbp = np.concatenate((X_flooded_lbp, X_non_flooded_lbp), axis=0)\n",
    "X_hog = np.concatenate((X_flooded_hog, X_non_flooded_hog), axis=0)\n",
    "X = np.concatenate((X_lbp, X_hog), axis=1)\n",
    "y = np.concatenate((y_flooded_lbp, y_non_flooded_lbp), axis=0)\n",
    "print(X.shape)\n",
    "print(y.shape)\n",
    "# 142884 +65536 \n"
   ]
  },
  {
   "cell_type": "code",
   "execution_count": 80,
   "metadata": {},
   "outputs": [],
   "source": [
    "# split data\n",
    "X_train, X_test, y_train, y_test = train_test_split(X, y, test_size=0.2, random_state=42)"
   ]
  },
  {
   "cell_type": "code",
   "execution_count": 81,
   "metadata": {},
   "outputs": [
    {
     "name": "stderr",
     "output_type": "stream",
     "text": [
      "c:\\Users\\lenovo\\AppData\\Local\\Programs\\Python\\Python39\\lib\\site-packages\\sklearn\\utils\\validation.py:1143: DataConversionWarning: A column-vector y was passed when a 1d array was expected. Please change the shape of y to (n_samples, ), for example using ravel().\n",
      "  y = column_or_1d(y, warn=True)\n"
     ]
    },
    {
     "name": "stdout",
     "output_type": "stream",
     "text": [
      "              precision    recall  f1-score   support\n",
      "\n",
      "         0.0       0.73      0.89      0.80        87\n",
      "         1.0       0.88      0.71      0.79        98\n",
      "\n",
      "    accuracy                           0.79       185\n",
      "   macro avg       0.80      0.80      0.79       185\n",
      "weighted avg       0.81      0.79      0.79       185\n",
      "\n",
      "Omission error: 28.57\n",
      "Commission error: 12.50\n"
     ]
    },
    {
     "name": "stderr",
     "output_type": "stream",
     "text": [
      "c:\\Users\\lenovo\\AppData\\Local\\Programs\\Python\\Python39\\lib\\site-packages\\sklearn\\linear_model\\_logistic.py:458: ConvergenceWarning: lbfgs failed to converge (status=1):\n",
      "STOP: TOTAL NO. of ITERATIONS REACHED LIMIT.\n",
      "\n",
      "Increase the number of iterations (max_iter) or scale the data as shown in:\n",
      "    https://scikit-learn.org/stable/modules/preprocessing.html\n",
      "Please also refer to the documentation for alternative solver options:\n",
      "    https://scikit-learn.org/stable/modules/linear_model.html#logistic-regression\n",
      "  n_iter_i = _check_optimize_result(\n"
     ]
    }
   ],
   "source": [
    "# train model\n",
    "model = LogisticRegression()\n",
    "model.fit(X_train, y_train)\n",
    "# test model\n",
    "y_pred = model.predict(X_test)\n",
    "print(classification_report(y_test, y_pred))\n",
    "print('Omission error: %.2f' % ((1-recall_score(y_test, y_pred))*100))\n",
    "print('Commission error: %.2f' % ((1-precision_score(y_test, y_pred))*100))"
   ]
  },
  {
   "cell_type": "code",
   "execution_count": 82,
   "metadata": {},
   "outputs": [
    {
     "name": "stderr",
     "output_type": "stream",
     "text": [
      "C:\\Users\\lenovo\\AppData\\Local\\Temp\\ipykernel_11976\\1070804783.py:3: DataConversionWarning: A column-vector y was passed when a 1d array was expected. Please change the shape of y to (n_samples,), for example using ravel().\n",
      "  model.fit(X_train, y_train)\n"
     ]
    },
    {
     "name": "stdout",
     "output_type": "stream",
     "text": [
      "              precision    recall  f1-score   support\n",
      "\n",
      "         0.0       0.83      0.78      0.80        87\n",
      "         1.0       0.82      0.86      0.84        98\n",
      "\n",
      "    accuracy                           0.82       185\n",
      "   macro avg       0.82      0.82      0.82       185\n",
      "weighted avg       0.82      0.82      0.82       185\n",
      "\n",
      "Omission error: 14.29\n",
      "Commission error: 18.45\n"
     ]
    }
   ],
   "source": [
    "# use random forest\n",
    "model = RandomForestClassifier()\n",
    "model.fit(X_train, y_train)\n",
    "# test model\n",
    "y_pred = model.predict(X_test)\n",
    "print(classification_report(y_test, y_pred))\n",
    "print('Omission error: %.2f' % ((1-recall_score(y_test, y_pred))*100))\n",
    "print('Commission error: %.2f' % ((1-precision_score(y_test, y_pred))*100))"
   ]
  },
  {
   "cell_type": "code",
   "execution_count": 83,
   "metadata": {},
   "outputs": [
    {
     "name": "stderr",
     "output_type": "stream",
     "text": [
      "c:\\Users\\lenovo\\AppData\\Local\\Programs\\Python\\Python39\\lib\\site-packages\\sklearn\\utils\\validation.py:1143: DataConversionWarning: A column-vector y was passed when a 1d array was expected. Please change the shape of y to (n_samples, ), for example using ravel().\n",
      "  y = column_or_1d(y, warn=True)\n"
     ]
    },
    {
     "name": "stdout",
     "output_type": "stream",
     "text": [
      "              precision    recall  f1-score   support\n",
      "\n",
      "         0.0       0.73      0.80      0.77        87\n",
      "         1.0       0.81      0.73      0.77        98\n",
      "\n",
      "    accuracy                           0.77       185\n",
      "   macro avg       0.77      0.77      0.77       185\n",
      "weighted avg       0.77      0.77      0.77       185\n",
      "\n",
      "Omission error: 26.53\n",
      "Commission error: 19.10\n"
     ]
    }
   ],
   "source": [
    "# use naive bayes\n",
    "model = GaussianNB()\n",
    "model.fit(X_train, y_train)\n",
    "# test model\n",
    "y_pred = model.predict(X_test)\n",
    "print(classification_report(y_test, y_pred))\n",
    "print('Omission error: %.2f' % ((1-recall_score(y_test, y_pred))*100))\n",
    "print('Commission error: %.2f' % ((1-precision_score(y_test, y_pred))*100))"
   ]
  }
 ],
 "metadata": {
  "kernelspec": {
   "display_name": "Python 3",
   "language": "python",
   "name": "python3"
  },
  "language_info": {
   "codemirror_mode": {
    "name": "ipython",
    "version": 3
   },
   "file_extension": ".py",
   "mimetype": "text/x-python",
   "name": "python",
   "nbconvert_exporter": "python",
   "pygments_lexer": "ipython3",
   "version": "3.9.11"
  },
  "orig_nbformat": 4
 },
 "nbformat": 4,
 "nbformat_minor": 2
}
