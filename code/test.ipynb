{
  "nbformat": 4,
  "nbformat_minor": 0,
  "metadata": {
    "colab": {
      "provenance": []
    },
    "kernelspec": {
      "name": "python3",
      "display_name": "Python 3"
    },
    "language_info": {
      "name": "python"
    }
  },
  "cells": [
    {
      "cell_type": "code",
      "execution_count": 6,
      "metadata": {
        "colab": {
          "base_uri": "https://localhost:8080/"
        },
        "id": "qxc6_7GoVrMu",
        "outputId": "862afbeb-28e6-4f6b-eba0-694e9b91da60"
      },
      "outputs": [
        {
          "output_type": "stream",
          "name": "stdout",
          "text": [
            "Drive already mounted at /content/drive/; to attempt to forcibly remount, call drive.mount(\"/content/drive/\", force_remount=True).\n"
          ]
        }
      ],
      "source": [
        "\n",
        "\n",
        "\n",
        "\n",
        "from google.colab import drive \n",
        "import pickle \n",
        "import numpy as np \n",
        "import pandas as pd\n",
        "from sklearn.metrics import classification_report\n",
        "import tensorflow as tf \n",
        "from tensorflow import keras \n",
        "import cv2 \n",
        "import os \n",
        "drive.mount(\"/content/drive/\")\n",
        "\n"
      ]
    },
    {
      "cell_type": "code",
      "source": [
        "\n",
        "model = keras.models.load_model(\"/content/drive/MyDrive/Deep_model.h5\")\n",
        "\n",
        "folder_path= '/content/drive/MyDrive/test/'\n",
        "\n",
        "file_names=os.listdir(folder_path)\n",
        "\n",
        "with open(\"results\",\"w+\") as result:\n",
        "  for file_name in file_names : \n",
        "      print(f'{folder_path}{file_name}')\n",
        "      image = cv2.imread(f'{folder_path}{file_name}', cv2.IMREAD_COLOR)\n",
        "      image_rgb =cv2.cvtColor(image, cv2.COLOR_BGR2RGB)\n",
        "      resized_image = cv2.resize(image_rgb, (160, 160))\n",
        "      result.write(\"1\" if  (model.predict(resized_image.reshape((1,160,160,3)))<0)[0][0] else \"0\")\n",
        "      result.write(\"\\n\")\n",
        "      \n",
        "\n",
        "\n"
      ],
      "metadata": {
        "colab": {
          "base_uri": "https://localhost:8080/"
        },
        "id": "LTmtS6YtWPPU",
        "outputId": "af7d37e4-5c41-4477-9f0e-d53191f3ba4c"
      },
      "execution_count": 24,
      "outputs": [
        {
          "output_type": "stream",
          "name": "stdout",
          "text": [
            "/content/drive/MyDrive/test/1002.jpg\n",
            "1/1 [==============================] - 1s 947ms/step\n",
            "/content/drive/MyDrive/test/1000.jpg\n",
            "1/1 [==============================] - 0s 44ms/step\n",
            "/content/drive/MyDrive/test/1001.jpg\n",
            "1/1 [==============================] - 0s 46ms/step\n",
            "/content/drive/MyDrive/test/1003.jpg\n",
            "1/1 [==============================] - 0s 43ms/step\n",
            "/content/drive/MyDrive/test/1005.jpg\n",
            "1/1 [==============================] - 0s 45ms/step\n",
            "/content/drive/MyDrive/test/0.jpg\n",
            "1/1 [==============================] - 0s 54ms/step\n",
            "/content/drive/MyDrive/test/1.jpg\n",
            "1/1 [==============================] - 0s 46ms/step\n",
            "/content/drive/MyDrive/test/10.jpg\n",
            "1/1 [==============================] - 0s 58ms/step\n",
            "/content/drive/MyDrive/test/101.jpg\n",
            "1/1 [==============================] - 0s 47ms/step\n"
          ]
        }
      ]
    },
    {
      "cell_type": "code",
      "source": [],
      "metadata": {
        "colab": {
          "base_uri": "https://localhost:8080/"
        },
        "id": "Ntg6DNcyWo5q",
        "outputId": "50426591-7bc5-4726-e49d-7b8d71822d06"
      },
      "execution_count": 21,
      "outputs": [
        {
          "output_type": "stream",
          "name": "stdout",
          "text": [
            "1/1 [==============================] - 0s 60ms/step\n"
          ]
        },
        {
          "output_type": "execute_result",
          "data": {
            "text/plain": [
              "False"
            ]
          },
          "metadata": {},
          "execution_count": 21
        }
      ]
    },
    {
      "cell_type": "code",
      "source": [],
      "metadata": {
        "id": "TNSLrwvWYOsc"
      },
      "execution_count": null,
      "outputs": []
    }
  ]
}